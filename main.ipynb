{
 "cells": [
  {
   "cell_type": "markdown",
   "id": "7912e089",
   "metadata": {},
   "source": [
    "### 유해시설 점수 가중치 선정을 위한 타깃 생성"
   ]
  },
  {
   "cell_type": "code",
   "execution_count": 16,
   "id": "a693321e",
   "metadata": {},
   "outputs": [
    {
     "name": "stdout",
     "output_type": "stream",
     "text": [
      "          지역        평균농도\n",
      "7     강원도 영월  106.152778\n",
      "8     강원도 원주  133.958333\n",
      "12    강원도 춘천  114.500000\n",
      "17    강원도 횡성  104.736111\n",
      "19    경기도 고양  122.097222\n",
      "..       ...         ...\n",
      "157  충청북도 제천  115.138889\n",
      "158  충청북도 증평  130.680556\n",
      "159  충청북도 진천  121.152778\n",
      "160  충청북도 청주  129.888889\n",
      "161  충청북도 충주  117.750000\n",
      "\n",
      "[81 rows x 2 columns]\n"
     ]
    }
   ],
   "source": [
    "import pandas as pd\n",
    "from sklearn.ensemble import RandomForestRegressor\n",
    "\n",
    "\n",
    "\n",
    "# 1. 데이터 불러오기\n",
    "df_pm = pd.read_csv('WhoMergedPm.csv', encoding='utf-8-sig')\n",
    "\n",
    "# 2. 월별 컬럼 추출 및 평균 계산\n",
    "month_cols = [col for col in df_pm if '.' in col]\n",
    "df_pm['평균농도'] = df_pm[month_cols].mean(axis=1)\n",
    "# 3. 상위 50% 지역 추출\n",
    "cut_value = df_pm['평균농도'].quantile(0.5)\n",
    "top50_df = df_pm[df_pm['평균농도'] >= cut_value].copy()\n",
    "\n",
    "# 결과 확인\n",
    "print(top50_df[['지역', '평균농도']])"
   ]
  },
  {
   "cell_type": "markdown",
   "id": "62f36ec7",
   "metadata": {},
   "source": [
    "### 유해시설 점수 계산식을 위한 가중치 산출"
   ]
  },
  {
   "cell_type": "code",
   "execution_count": 18,
   "id": "c0f17dc7",
   "metadata": {},
   "outputs": [
    {
     "name": "stdout",
     "output_type": "stream",
     "text": [
      "각 항목별 가중치:\n",
      "사업장 수(1종): 0.052\n",
      "사업장 수(2종): 0.069\n",
      "사업장 수(3종): 0.068\n",
      "배출구 수(1종): 0.115\n",
      "배출구 수(2종): 0.049\n",
      "배출구 수(3종): 0.080\n",
      "방지시설 수(1종): 0.083\n",
      "방지시설 수(2종): 0.074\n",
      "방지시설 수(3종): 0.065\n",
      "배출시설 수(1종): 0.079\n",
      "배출시설 수(2종): 0.118\n",
      "배출시설 수(3종): 0.149\n"
     ]
    }
   ],
   "source": [
    "# 유해시설 데이터 불러오기\n",
    "df_hazard = pd.read_csv('hazard_facility.csv')  \n",
    "\n",
    "df_ml = df_hazard.merge(top50_df[['지역', '평균농도']], on='지역')\n",
    "\n",
    "hazard_cols = [\n",
    "    '사업장 수(1종)', '사업장 수(2종)', '사업장 수(3종)',\n",
    "    '배출구 수(1종)', '배출구 수(2종)', '배출구 수(3종)',\n",
    "    '방지시설 수(1종)', '방지시설 수(2종)', '방지시설 수(3종)',\n",
    "    '배출시설 수(1종)', '배출시설 수(2종)', '배출시설 수(3종)'\n",
    "]\n",
    "\n",
    "X = df_ml[hazard_cols]\n",
    "y = df_ml['평균농도']\n",
    "\n",
    "# 랜덤포레스트 회귀로 변수 중요도 산출\n",
    "rf = RandomForestRegressor(random_state=42)\n",
    "rf.fit(X, y)\n",
    "importances = rf.feature_importances_\n",
    "\n",
    "# 가중치(중요도) 정규화\n",
    "weights = importances / importances.sum()\n",
    "weight_dict = dict(zip(hazard_cols, weights))\n",
    "\n",
    "print(\"각 항목별 가중치:\")\n",
    "for k, v in weight_dict.items():\n",
    "    print(f\"{k}: {v:.3f}\")\n"
   ]
  },
  {
   "cell_type": "markdown",
   "id": "836abcda",
   "metadata": {},
   "source": [
    "### 유해시설점수"
   ]
  },
  {
   "cell_type": "code",
   "execution_count": 20,
   "id": "3be0e234",
   "metadata": {},
   "outputs": [
    {
     "name": "stdout",
     "output_type": "stream",
     "text": [
      "          지역       유해시설점수\n",
      "0     강원도 강릉    70.178085\n",
      "1     강원도 고성    11.074389\n",
      "2     강원도 동해    73.064177\n",
      "3     강원도 삼척    90.010478\n",
      "4     강원도 속초     0.495782\n",
      "..       ...          ...\n",
      "155    부산광역시  1230.495211\n",
      "156    서울특별시   144.508546\n",
      "157  세종특별자치시   413.625028\n",
      "158    울산광역시  3754.032071\n",
      "159    인천광역시  1219.344482\n",
      "\n",
      "[160 rows x 2 columns]\n"
     ]
    }
   ],
   "source": [
    "# 유해시설 관련 컬럼의 NaN을 0으로 바꾸기\n",
    "df_hazard[hazard_cols] = df_hazard[hazard_cols].fillna(0)\n",
    "\n",
    "# 점수 계산\n",
    "df_hazard['유해시설점수'] = 0\n",
    "for col in hazard_cols:\n",
    "    df_hazard['유해시설점수'] += df_hazard[col] * weight_dict.get(col, 0)\n",
    "\n",
    "print(df_hazard[['지역', '유해시설점수']])"
   ]
  },
  {
   "cell_type": "markdown",
   "id": "3a2ee96b",
   "metadata": {},
   "source": [
    "### 클러스터링을 위한 데이터프레임 병합"
   ]
  },
  {
   "cell_type": "code",
   "execution_count": 29,
   "id": "e76d3271",
   "metadata": {},
   "outputs": [
    {
     "name": "stdout",
     "output_type": "stream",
     "text": [
      "병합 전 df_hosp_area 지역 수: 161\n",
      "병합 전 df_pm 지역 수: 162\n",
      "병합 전 df_hosp_pop 지역 수: 161\n",
      "병합 전 df_hazard 지역 수: 160\n"
     ]
    }
   ],
   "source": [
    "\n",
    "\n",
    "tmp_result = pd.read_csv(\"tmp_score_result.csv\", encoding='utf-8-sig')\n",
    "\n",
    "# df_hosp_pop와 df_hosp_area를 tmp_score_result에서 생성\n",
    "df_hosp_pop = tmp_result[['지역', '인구10k명당_의료기관수']].copy()\n",
    "df_hosp_pop.columns = ['지역', '인구10k명당_의료기관수']\n",
    "\n",
    "df_hosp_area = tmp_result[['지역', '면적1km2당_의료기관수']].copy()\n",
    "df_hosp_area.columns = ['지역', '면적1km2당_의료기관수']\n",
    "\n",
    "# 1. 마지막 글자 '시' 또는 '군' 제거 함수\n",
    "area_names = [\n",
    "    \"서울특별시\",\n",
    "    \"부산광역시\",\n",
    "    \"대구광역시\",\n",
    "    \"인천광역시\",\n",
    "    \"광주광역시\",\n",
    "    \"대전광역시\",\n",
    "    \"울산광역시\",\n",
    "    \"세종특별자치시\"\n",
    "]\n",
    "def remove_suffix(name):\n",
    "    if name in area_names:\n",
    "        return name\n",
    "    if name.endswith('시') or name.endswith('군') or name.endswith('구'):\n",
    "        return name[:-1]\n",
    "    return name\n",
    "df_hosp_pop['지역'] = df_hosp_pop['지역'].apply(remove_suffix)\n",
    "df_hosp_area['지역'] = df_hosp_area['지역'].apply(remove_suffix)\n",
    "df_pm['지역'] = df_pm['지역'].apply(remove_suffix)\n",
    "\n",
    "\n",
    "# 2. 데이터 병합\n",
    "print(\"병합 전 df_hosp_area 지역 수:\", len(df_hosp_area))\n",
    "print(\"병합 전 df_pm 지역 수:\", len(df_pm))\n",
    "print(\"병합 전 df_hosp_pop 지역 수:\", len(df_hosp_pop))\n",
    "print(\"병합 전 df_hazard 지역 수:\", len(df_hazard))\n",
    "\n",
    "# 1차 병합\n",
    "df = df_hosp_area.merge(df_pm[['지역', '평균농도']], on='지역', how='left')\n",
    "# print(\"1차 병합 후 shape:\", df.shape)\n",
    "# print(\"1차 병합에서 누락된 지역:\", df[df['평균농도'].isnull()]['지역'].tolist())\n",
    "\n",
    "# 2차 병합\n",
    "df = df.merge(df_hosp_pop, on='지역', how='left')\n",
    "# print(\"2차 병합 후 shape:\", df.shape)\n",
    "# print(\"2차 병합에서 누락된 지역:\", df[df['hosp_pop_score'].isnull()]['지역'].tolist())\n",
    "\n",
    "# 3차 병합\n",
    "df = df.merge(df_hazard[['지역', '유해시설점수']], on='지역', how='left')\n",
    "# print(\"3차 병합 후 shape:\", df.shape)\n",
    "# print(\"3차 병합에서 누락된 지역:\", df[df['유해시설점수'].isnull()]['지역'].tolist())\n",
    "\n"
   ]
  },
  {
   "cell_type": "markdown",
   "id": "9f4f8e81",
   "metadata": {},
   "source": [
    "### 클러스터링 변수 정규화 & 클러스터링"
   ]
  },
  {
   "cell_type": "code",
   "execution_count": 30,
   "id": "0c57ae92",
   "metadata": {},
   "outputs": [
    {
     "name": "stdout",
     "output_type": "stream",
     "text": [
      "군집 A: 부산광역시, 인천광역시, 울산광역시, 경기도 평택, 전라남도 여수, 경상북도 구미, 경기도 안산, 충청북도 청주, 경상북도 포항, 경상남도 창원\n",
      "군집 B: 대구광역시, 광주광역시, 대전광역시, 세종특별자치시, 경기도 의정부, 경기도 광명, 경기도 동두천, 경기도 과천, 경기도 구리, 경기도 남양주, 경기도 오산, 경기도 시흥, 경기도 군포, 경기도 의왕, 경기도 하남, 경기도 파주, 경기도 이천, 경기도 안성, 경기도 김포, 경기도 화성, 경기도 광주, 경기도 양주, 경기도 포천, 경기도 여주, 경기도 연천, 경기도 양평, 충청북도 충주, 충청북도 제천, 충청북도 증평, 충청북도 진천, 충청북도 음성, 충청남도 아산, 충청남도 서산, 충청남도 당진, 충청남도 당진, 충청남도 홍성, 전라남도 목포, 전라남도 광양, 전라남도 영암, 경상북도 김천, 경상북도 영주, 경상북도 경산, 경상북도 칠곡, 경상남도 진주, 경상남도 김해, 경상남도 거제, 경상남도 양산, 강원도 춘천, 강원도 원주, 강원도 강릉, 강원도 횡성, 강원도 영월, 전라북도 군산, 전라북도 익산, 전라북도 김제, 전라북도 완주, 전라북도 부안, 경기도 수원, 경기도 성남, 경기도 고양, 경기도 용인, 경기도 안양, 충청남도 천안, 전라북도 전주\n",
      "군집 C: 서울특별시, 경기도 부천\n",
      "군집 D: 경기도 가평, 충청북도 보은, 충청북도 옥천, 충청북도 영동, 충청북도 괴산, 충청북도 단양, 충청남도 공주, 충청남도 보령, 충청남도 논산, 충청남도 계룡, 충청남도 금산, 충청남도 부여, 충청남도 서천, 충청남도 청양, 충청남도 예산, 충청남도 태안, 전라남도 순천, 전라남도 나주, 전라남도 담양, 전라남도 곡성, 전라남도 구례, 전라남도 고흥, 전라남도 보성, 전라남도 화순, 전라남도 장흥, 전라남도 강진, 전라남도 해남, 전라남도 무안, 전라남도 함평, 전라남도 영광, 전라남도 장성, 전라남도 완도, 전라남도 진도, 전라남도 신안, 경상북도 경주, 경상북도 안동, 경상북도 영천, 경상북도 상주, 경상북도 문경, 경상북도 의성, 경상북도 영덕, 경상북도 청도, 경상북도 고령, 경상북도 성주, 경상북도 예천, 경상북도 봉화, 경상북도 울진, 경상북도 울릉, 경상남도 통영, 경상남도 사천, 경상남도 밀양, 경상남도 의령, 경상남도 함안, 경상남도 창녕, 경상남도 고성, 경상남도 하동, 경상남도 산청, 경상남도 함양, 경상남도 거창, 경상남도 합천, 제주특별자치도 제주, 제주특별자치도 서귀포, 강원도 동해, 강원도 태백, 강원도 속초, 강원도 삼척, 강원도 홍천, 강원도 평창, 강원도 정선, 강원도 철원, 강원도 화천, 강원도 인제, 강원도 고성, 강원도 양양, 전라북도 정읍, 전라북도 남원, 전라북도 진안, 전라북도 무주, 전라북도 장수, 전라북도 임실, 전라북도 순창, 전라북도 고창\n"
     ]
    },
    {
     "name": "stderr",
     "output_type": "stream",
     "text": [
      "c:\\Users\\080a3\\anaconda3\\Lib\\site-packages\\sklearn\\cluster\\_kmeans.py:1429: UserWarning: KMeans is known to have a memory leak on Windows with MKL, when there are less chunks than available threads. You can avoid it by setting the environment variable OMP_NUM_THREADS=1.\n",
      "  warnings.warn(\n"
     ]
    }
   ],
   "source": [
    "import pandas as pd\n",
    "from sklearn.preprocessing import StandardScaler\n",
    "from sklearn.cluster import KMeans\n",
    "from sklearn.decomposition import PCA\n",
    "import matplotlib.pyplot as plt\n",
    "# 클러스터링 변수에 유해시설점수 추가(0~100에 맞춤춤)\n",
    "def minmax_100(series):\n",
    "    return 100 * (series - series.min()) / (series.max() - series.min())\n",
    "# 각 feature별 점수화 및 컬럼명 지정\n",
    "df['pm_score'] = minmax_100(df['평균농도'])\n",
    "df['hazard_score'] = minmax_100(df['유해시설점수'])\n",
    "df['area_score'] = minmax_100(df['면적1km2당_의료기관수'])\n",
    "df['pop_score'] = minmax_100(df['인구10k명당_의료기관수'])\n",
    "\n",
    "# hazard.csv에 청송, 영양, 남해, 양구 존재하지 않아 병합x\n",
    "df = df.dropna()\n",
    "#print(df.isnull().sum())\n",
    "\n",
    "features = ['pm_score', 'hazard_score', 'area_score', 'pop_score']\n",
    "\n",
    "X = df[features]\n",
    "scaler = StandardScaler()\n",
    "X_scaled = scaler.fit_transform(X)\n",
    "\n",
    "# 6. KMeans 클러스터링\n",
    "n_clusters = 4\n",
    "kmeans = KMeans(n_clusters=n_clusters, random_state=42)\n",
    "df['cluster'] = kmeans.fit_predict(X_scaled)\n",
    "\n",
    "# 7. 군집별 지역명 리스트 출력\n",
    "for i in range(n_clusters):\n",
    "    지역리스트 = df[df['cluster'] == i]['지역'].tolist()\n",
    "    print(f'군집 {chr(65+i)}: {\", \".join(지역리스트)}')"
   ]
  },
  {
   "cell_type": "code",
   "execution_count": 34,
   "id": "5dc4efa2",
   "metadata": {},
   "outputs": [
    {
     "name": "stdout",
     "output_type": "stream",
     "text": [
      "          pm_score  hazard_score  area_score  pop_score\n",
      "cluster                                                \n",
      "0        53.023854      3.717676    2.182417  47.008096\n",
      "1        80.012191      4.785055   14.931662  29.419633\n",
      "2        63.969453     46.427390    6.641699  24.990949\n",
      "3        19.464307      0.608880    0.368047  64.728039\n"
     ]
    }
   ],
   "source": [
    "# 군집별 주요 변수의 평균, 표준편차, 최소, 최대, 개수 등 요약 통계 구하기\n",
    "print(df.groupby('cluster')[features].mean())\n"
   ]
  },
  {
   "cell_type": "markdown",
   "id": "cbc16517",
   "metadata": {},
   "source": [
    "\n",
    "## =>  군집1 : 미세먼지 중심 의료취약 지역"
   ]
  },
  {
   "cell_type": "markdown",
   "id": "d0106fff",
   "metadata": {},
   "source": [
    "### 클러스터링 결과 시각화"
   ]
  },
  {
   "cell_type": "code",
   "execution_count": 35,
   "id": "609f9374",
   "metadata": {},
   "outputs": [
    {
     "ename": "ModuleNotFoundError",
     "evalue": "No module named 'folium'",
     "output_type": "error",
     "traceback": [
      "\u001b[1;31m---------------------------------------------------------------------------\u001b[0m",
      "\u001b[1;31mModuleNotFoundError\u001b[0m                       Traceback (most recent call last)",
      "Cell \u001b[1;32mIn[35], line 1\u001b[0m\n\u001b[1;32m----> 1\u001b[0m \u001b[38;5;28;01mimport\u001b[39;00m \u001b[38;5;21;01mfolium\u001b[39;00m \n\u001b[0;32m      2\u001b[0m \u001b[38;5;28;01mimport\u001b[39;00m \u001b[38;5;21;01mgeopandas\u001b[39;00m \u001b[38;5;28;01mas\u001b[39;00m \u001b[38;5;21;01mgpd\u001b[39;00m\n\u001b[0;32m      3\u001b[0m \u001b[38;5;28;01mimport\u001b[39;00m \u001b[38;5;21;01mpandas\u001b[39;00m \u001b[38;5;28;01mas\u001b[39;00m \u001b[38;5;21;01mpd\u001b[39;00m\n",
      "\u001b[1;31mModuleNotFoundError\u001b[0m: No module named 'folium'"
     ]
    }
   ],
   "source": [
    "import folium \n",
    "import geopandas as gpd\n",
    "import pandas as pd\n",
    "import os\n",
    "\n",
    "sido_info = [\n",
    "    ('서울', '11'), ('부산', '26'), ('대구', '27'), ('인천', '28'), ('광주', '29'),\n",
    "    ('대전', '30'), ('울산', '31'), ('세종', '36'), ('경기', '41'), ('강원', '51'),\n",
    "    ('충북', '43'), ('충남', '44'), ('전북', '52'), ('전남', '46'), ('경북', '47'),\n",
    "    ('경남', '48'), ('제주', '50')\n",
    "]\n",
    "# 지역명 정제 함수\n",
    "def clean_region_name(name):\n",
    "    name = str(name).strip()\n",
    "    for suf in ['시', '군', '구']:\n",
    "        if name.endswith(suf):\n",
    "            return name[:-1]\n",
    "    return name\n",
    "merged_gdf_list = []\n",
    "\n",
    "for sido_name, sido_code in sido_info:\n",
    "    shp_path = f'./LatLng/LARD_ADM_SECT_SGG_{sido_name}/LARD_ADM_SECT_SGG_{sido_code}_202505.shp'\n",
    "    if not os.path.exists(shp_path):\n",
    "        print(f\"{sido_name} SHP 파일 없음: {shp_path}\")\n",
    "        continue\n",
    "    try:\n",
    "        gdf = gpd.read_file(shp_path, encoding='cp949')\n",
    "    except Exception as e:\n",
    "        print(f\"{sido_name} 파일을 읽을 수 없습니다: {e}\")\n",
    "        continue\n",
    "\n",
    "    if 'SGG_NM' not in gdf.columns:\n",
    "        print(f\"{sido_name}의 SHP 파일에 'SGG_NM' 컬럼이 없습니다.\")\n",
    "        continue\n",
    "\n",
    "    # 시군구명에서 마지막 단어만 추출(예: '전라남도 목포시' → '목포시')\n",
    "    gdf['SGG_NM'] = gdf['SGG_NM'].str.strip().str.split().str[-1]\n",
    "\n",
    "    # 좌표계 통일\n",
    "    try:\n",
    "        gdf = gdf.to_crs(epsg=4326)\n",
    "    except Exception as e:\n",
    "        print(f\"{sido_name} CRS 변환 실패: {e}\")\n",
    "        continue\n",
    "\n",
    "    merged_gdf_list.append(gdf)\n",
    "\n",
    "# 3. SHP 병합\n",
    "if not merged_gdf_list:\n",
    "    raise ValueError(\"병합할 SHP 데이터가 없습니다.\")\n",
    "merged_gdf = gpd.GeoDataFrame(pd.concat(merged_gdf_list, ignore_index=True), crs=\"EPSG:4326\")\n",
    "merged_gdf['도시_매칭'] = merged_gdf['SGG_NM'].apply(clean_region_name)\n",
    "\n",
    "\n",
    "#1. df에 시군구명만 추출\n",
    "df['도시_매칭'] = df['지역'].apply(lambda x: x.strip().split()[-1])\n",
    "\n",
    "# 2. 병합\n",
    "plot_gdf = merged_gdf.merge(df[['도시_매칭', 'cluster']], on='도시_매칭', how='left')\n",
    "\n",
    "# 3. 군집별 색상 지정\n",
    "cluster_colors = {\n",
    "    0: \"#66c2a5\",  # 군집A: green\n",
    "    1: \"#fc8d62\",  # 군집B: orange\n",
    "    2: \"#8da0cb\",  # 군집C: blue\n",
    "    3: \"#a55194\"   # 군집D: purple\n",
    "}\n",
    "\n",
    "def style_function(feature):\n",
    "    cluster = feature['properties']['cluster']\n",
    "    color = cluster_colors.get(cluster, \"#cccccc\")  # 군집 없으면 회색\n",
    "    return {\n",
    "        'fillColor': color,\n",
    "        'color': 'black',\n",
    "        'weight': 1,\n",
    "        'fillOpacity': 0.8,\n",
    "    }\n",
    "\n",
    "# 4. Folium 지도 생성\n",
    "m = folium.Map(location=[36.5, 127.8], zoom_start=7, tiles='cartodbpositron')\n",
    "\n",
    "# 5. GeoJson으로 군집별 색상 시각화\n",
    "folium.GeoJson(\n",
    "    plot_gdf,\n",
    "    style_function=style_function,\n",
    "    tooltip=folium.GeoJsonTooltip(fields=['SGG_NM', 'cluster'], aliases=['지역', '군집'])\n",
    ").add_to(m)\n",
    "\n",
    "# 6. 군집별 범례 추가\n",
    "from branca.element import MacroElement\n",
    "from jinja2 import Template\n",
    "\n",
    "legend_html = \"\"\"\n",
    "{% macro html(this, kwargs) %}\n",
    "<div style=\"\n",
    "    position: fixed; \n",
    "    bottom: 50px; left: 50px; width: 150px; height: 110px; \n",
    "    border:2px solid grey; z-index:9999; font-size:14px;\n",
    "    background-color: white;\n",
    "    \">\n",
    "    <b>&nbsp;군집 색상</b><br>\n",
    "    &nbsp;<i style=\"background: #66c2a5; width: 10px; height: 10px; float: left; margin-right: 5px\"></i>군집 A<br>\n",
    "    &nbsp;<i style=\"background: #fc8d62; width: 10px; height: 10px; float: left; margin-right: 5px\"></i>군집 B<br>\n",
    "    &nbsp;<i style=\"background: #8da0cb; width: 10px; height: 10px; float: left; margin-right: 5px\"></i>군집 C<br>\n",
    "    &nbsp;<i style=\"background: #a55194; width: 10px; height: 10px; float: left; margin-right: 5px\"></i>군집 D<br> \n",
    "</div>\n",
    "{% endmacro %}\n",
    "\"\"\"\n",
    "legend = MacroElement()\n",
    "legend._template = Template(legend_html)\n",
    "m.get_root().add_child(legend)\n",
    "\n",
    "# 7. 지도 저장 및 출력\n",
    "m.save('cluster_map.html')\n",
    "print(\"✅ 군집별 시군구 지도 저장 완료: cluster_map.html\")"
   ]
  },
  {
   "cell_type": "markdown",
   "id": "a9472c0d",
   "metadata": {},
   "source": [
    "### 기존 임의 설정 의료취약점수 시각화"
   ]
  },
  {
   "cell_type": "code",
   "execution_count": null,
   "id": "77a2f166",
   "metadata": {},
   "outputs": [
    {
     "name": "stdout",
     "output_type": "stream",
     "text": [
      "✅ 의료 취약점수 시각화 지도 저장 완료: medical_vulnerability_map.html\n"
     ]
    }
   ],
   "source": [
    "import folium \n",
    "import geopandas as gpd\n",
    "import pandas as pd\n",
    "import os\n",
    "from branca.colormap import LinearColormap\n",
    "\n",
    "\n",
    "tmp_score = pd.read_csv('tmp_score_result.csv')\n",
    "tmp_score['도시_매칭'] = tmp_score['지역'].apply(remove_suffix)\n",
    "tmp_score['도시_매칭'] = tmp_score['지역'].apply(lambda x: x.strip().split()[-1])\n",
    "tmp_score['도시_매칭'] = tmp_score['도시_매칭'].apply(clean_region_name)\n",
    "# SHP 데이터와 의료취약점수 병합\n",
    "plot_gdf = merged_gdf.merge(tmp_score[['도시_매칭', '의료접근_최종점수']], on='도시_매칭', how='left')\n",
    "\n",
    "# 색상 범위 설정 (데이터 분포에 맞게 조정 필요)\n",
    "min_score = plot_gdf['의료접근_최종점수'].min()\n",
    "max_score = plot_gdf['의료접근_최종점수'].max()\n",
    "colormap = LinearColormap(\n",
    "    colors=['#800026', '#bd0026', '#e31a1c', '#fc4e2a', '#fd8d3c', '#feb24c', '#fed976', '#ffeda0', '#ffffcc'],\n",
    "    vmin=min_score,\n",
    "    vmax=max_score\n",
    ")\n",
    "\n",
    "# 스타일 함수 정의\n",
    "def style_function(feature):\n",
    "    score = feature['properties']['의료접근_최종점수']\n",
    "    return {\n",
    "        'fillColor': colormap(score) if pd.notnull(score) else '#cccccc',\n",
    "        'color': 'black',\n",
    "        'weight': 1,\n",
    "        'fillOpacity': 0.7\n",
    "    }\n",
    "\n",
    "# Folium 지도 생성\n",
    "m = folium.Map(location=[36.5, 127.8], zoom_start=7, tiles='cartodbpositron')\n",
    "\n",
    "# GeoJson 레이어 추가\n",
    "folium.GeoJson(\n",
    "    plot_gdf,\n",
    "    style_function=style_function,\n",
    "    tooltip=folium.GeoJsonTooltip(\n",
    "        fields=['SGG_NM', '의료접근_최종점수'],\n",
    "        aliases=['지역', '의료접근_최종점수'],\n",
    "        localize=True\n",
    "    )\n",
    ").add_to(m)\n",
    "\n",
    "\n",
    "\n",
    "# 컬러맵 범례 추가\n",
    "colormap.add_to(m)\n",
    "colormap.caption = '의료 취약점수'\n",
    "\n",
    "# 지도 저장\n",
    "m.save('medical_vulnerability_map.html')\n",
    "print(\"✅ 의료 취약점수 시각화 지도 저장 완료: medical_vulnerability_map.html\")\n"
   ]
  },
  {
   "cell_type": "markdown",
   "id": "54a6d886",
   "metadata": {},
   "source": [
    "### 군집B에 속하는 지역의 기존 의료취약점수 확인"
   ]
  },
  {
   "cell_type": "code",
   "execution_count": null,
   "id": "37d10a58",
   "metadata": {},
   "outputs": [
    {
     "name": "stdout",
     "output_type": "stream",
     "text": [
      "          지역  의료접근_최종점수\n",
      "12   경기도 동두천      0.476\n",
      "23    경기도 안성      0.544\n",
      "28    경기도 포천      0.502\n",
      "33   충청북도 충주      0.517\n",
      "34   충청북도 제천      0.481\n",
      "38   충청북도 증평      0.558\n",
      "41   충청북도 음성      0.495\n",
      "46   충청남도 서산      0.526\n",
      "49   충청남도 당진      0.530\n",
      "119   강원도 춘천      0.556\n",
      "121   강원도 강릉      0.478\n",
      "137  전라북도 군산      0.543\n",
      "138  전라북도 익산      0.527\n"
     ]
    }
   ],
   "source": [
    "cluster_b = [\n",
    "    \"대구광역시\", \"광주광역시\", \"대전광역시\", \"세종특별자치시\",\n",
    "    \"경기도 의정부\", \"경기도 광명\", \"경기도 동두천\", \"경기도 과천\", \"경기도 구리\",\n",
    "    \"경기도 남양주\", \"경기도 오산\", \"경기도 시흥\", \"경기도 군포\", \"경기도 의왕\",\n",
    "    \"경기도 하남\", \"경기도 파주\", \"경기도 이천\", \"경기도 안성\", \"경기도 김포\",\n",
    "    \"경기도 화성\", \"경기도 광주\", \"경기도 양주\", \"경기도 포천\", \"경기도 여주\",\n",
    "    \"경기도 연천\", \"경기도 양평\", \"충청북도 충주\", \"충청북도 제천\", \"충청북도 증평\",\n",
    "    \"충청북도 진천\", \"충청북도 음성\", \"충청남도 아산\", \"충청남도 서산\", \"충청남도 당진\",\n",
    "    \"충청남도 당진\", \"충청남도 홍성\", \"전라남도 목포\", \"전라남도 광양\", \"전라남도 영암\",\n",
    "    \"경상북도 김천\", \"경상북도 영주\", \"경상북도 경산\", \"경상북도 칠곡\",\n",
    "    \"경상남도 진주\", \"경상남도 김해\", \"경상남도 거제\", \"경상남도 양산\",\n",
    "    \"강원도 춘천\", \"강원도 원주\", \"강원도 강릉\", \"강원도 횡성\", \"강원도 영월\",\n",
    "    \"전라북도 군산\", \"전라북도 익산\", \"전라북도 김제\", \"전라북도 완주\", \"전라북도 부안\",\n",
    "    \"경기도 수원\", \"경기도 성남\", \"경기도 고양\", \"경기도 용인\", \"경기도 안양\",\n",
    "    \"충청남도 천안\", \"전라북도 전주\"\n",
    "]\n",
    "# 0.515점 미달이면 의료취약지역\n",
    "old_score = pd.read_csv('tmp_score_result.csv')\n",
    "old_score['지역'] = old_score['지역'].apply(remove_suffix)\n",
    "# 새롭게 포함된 의료취약지역\n",
    "new_region = old_score[\n",
    "    (old_score['지역'].isin(cluster_b)) &\n",
    "    (old_score['의료접근_최종점수']>=0.465) & # 0.465~0.515는 기존 의료취약 지역 선정 오차 범위 내에 있다고 가정\n",
    "    (old_score['의료접근_최종점수']<=0.565) # 0.515~0.565는 기존 의료취약 지역 선정 기준에 미치지 못한다고 가정\n",
    "]\n",
    "print(new_region[['지역', '의료접근_최종점수']])"
   ]
  },
  {
   "cell_type": "code",
   "execution_count": null,
   "id": "22b99510",
   "metadata": {},
   "outputs": [
    {
     "name": "stderr",
     "output_type": "stream",
     "text": [
      "C:\\Users\\kjhh2\\AppData\\Local\\Temp\\ipykernel_22804\\4022251512.py:7: SettingWithCopyWarning: \n",
      "A value is trying to be set on a copy of a slice from a DataFrame.\n",
      "Try using .loc[row_indexer,col_indexer] = value instead\n",
      "\n",
      "See the caveats in the documentation: https://pandas.pydata.org/pandas-docs/stable/user_guide/indexing.html#returning-a-view-versus-a-copy\n",
      "  new_region['도시_매칭'] = new_region['지역'].apply(lambda x: x.strip().split()[-1])\n",
      "C:\\Users\\kjhh2\\AppData\\Local\\Temp\\ipykernel_22804\\4022251512.py:8: SettingWithCopyWarning: \n",
      "A value is trying to be set on a copy of a slice from a DataFrame.\n",
      "Try using .loc[row_indexer,col_indexer] = value instead\n",
      "\n",
      "See the caveats in the documentation: https://pandas.pydata.org/pandas-docs/stable/user_guide/indexing.html#returning-a-view-versus-a-copy\n",
      "  new_region['도시_매칭'] = new_region['도시_매칭'].apply(clean_region_name)\n"
     ]
    },
    {
     "name": "stdout",
     "output_type": "stream",
     "text": [
      "Index(['ADM_SECT_C', 'SGG_NM', 'SGG_OID', 'COL_ADM_SE', 'geometry', '도시_매칭',\n",
      "       '의료접근_최종점수', 'new'],\n",
      "      dtype='object')\n",
      "✅ 의료 취약점수 시각화 지도 저장 완료: new_region.html\n"
     ]
    }
   ],
   "source": [
    "import folium \n",
    "import geopandas as gpd\n",
    "import pandas as pd\n",
    "import os\n",
    "from branca.colormap import LinearColormap\n",
    "\n",
    "new_region['도시_매칭'] = new_region['지역'].apply(lambda x: x.strip().split()[-1])\n",
    "new_region['도시_매칭'] = new_region['도시_매칭'].apply(clean_region_name)\n",
    "plot_gdf['new'] = plot_gdf['도시_매칭'].isin(new_region['도시_매칭']).astype(int)\n",
    "print(plot_gdf.columns)\n",
    "\n",
    "filtered_plot_gdf = plot_gdf[plot_gdf['new'] == 1]\n",
    "# 스타일 함수 정의\n",
    "def style_function(feature):\n",
    "    score = feature['properties']['의료접근_최종점수']\n",
    "    return {\n",
    "        'fillColor': \"#b5e30d\",\n",
    "        'color': 'black',\n",
    "        'weight': 1,\n",
    "        'fillOpacity': 0.7\n",
    "    }\n",
    "\n",
    "# Folium 지도 생성\n",
    "m = folium.Map(location=[36.5, 127.8], zoom_start=7, tiles='cartodbpositron')\n",
    "\n",
    "# GeoJson 레이어 추가\n",
    "folium.GeoJson(\n",
    "    filtered_plot_gdf,\n",
    "    style_function=style_function,\n",
    "    tooltip=folium.GeoJsonTooltip(\n",
    "        fields=['SGG_NM', '의료접근_최종점수'],\n",
    "        aliases=['지역', '의료접근_최종점수'],\n",
    "        localize=True\n",
    "    )\n",
    ").add_to(m)\n",
    "\n",
    "\n",
    "# 지도 저장\n",
    "m.save('new_region.html')\n",
    "print(\"✅ 의료 취약점수 시각화 지도 저장 완료: new_region.html\")\n"
   ]
  },
  {
   "cell_type": "code",
   "execution_count": null,
   "id": "29c4d57f",
   "metadata": {},
   "outputs": [
    {
     "name": "stdout",
     "output_type": "stream",
     "text": [
      "\n",
      "✅ XGBoost Test Set 분류 리포트:\n",
      "              precision    recall  f1-score   support\n",
      "\n",
      "           0       0.93      0.81      0.87        32\n",
      "           1       0.70      0.88      0.78        16\n",
      "\n",
      "    accuracy                           0.83        48\n",
      "   macro avg       0.81      0.84      0.82        48\n",
      "weighted avg       0.85      0.83      0.84        48\n",
      "\n",
      "Test Set ROC AUC: 0.9043\n"
     ]
    },
    {
     "data": {
      "image/png": "[encoded data removed]",
      "text/plain": [
       "<Figure size 1000x600 with 1 Axes>"
      ]
     },
     "metadata": {},
     "output_type": "display_data"
    }
   ],
   "source": [
    "import pandas as pd\n",
    "import numpy as np\n",
    "import matplotlib.pyplot as plt\n",
    "from sklearn.model_selection import train_test_split\n",
    "from sklearn.preprocessing import StandardScaler\n",
    "from sklearn.metrics import classification_report, roc_auc_score\n",
    "from xgboost import XGBClassifier\n",
    "from imblearn.over_sampling import SMOTE\n",
    "\n",
    "# 타깃\n",
    "cluster_d = [\n",
    "    \"대구광역시\", \"광주광역시\", \"대전광역시\", \"세종특별자치시\",\n",
    "    \"경기도 의정부\", \"경기도 광명\", \"경기도 동두천\", \"경기도 과천\", \"경기도 구리\",\n",
    "    \"경기도 남양주\", \"경기도 오산\", \"경기도 시흥\", \"경기도 군포\", \"경기도 의왕\",\n",
    "    \"경기도 하남\", \"경기도 파주\", \"경기도 이천\", \"경기도 안성\", \"경기도 김포\",\n",
    "    \"경기도 화성\", \"경기도 광주\", \"경기도 양주\", \"경기도 포천\", \"경기도 여주\",\n",
    "    \"경기도 연천\", \"경기도 양평\", \"충청북도 충주\", \"충청북도 제천\", \"충청북도 증평\",\n",
    "    \"충청북도 진천\", \"충청북도 음성\", \"충청남도 아산\", \"충청남도 서산\", \"충청남도 당진\",\n",
    "    \"충청남도 홍성\", \"전라남도 목포\", \"전라남도 광양\", \"전라남도 영암\",\n",
    "    \"경상북도 김천\", \"경상북도 영주\", \"경상북도 경산\", \"경상북도 칠곡\",\n",
    "    \"경상남도 진주\", \"경상남도 김해\", \"경상남도 거제\", \"경상남도 양산\",\n",
    "    \"경기도 수원\", \"경기도 성남\", \"경기도 고양\", \"경기도 용인\", \"경기도 안양\",\n",
    "    \"충청남도 천안\"\n",
    "]\n",
    "\n",
    "# df는 이미 pm_score, hazard_score, area_score, pop_score 컬럼이 존재한다고 가정\n",
    "df['cluster_D'] = df['지역'].apply(lambda x: 1 if x in cluster_d else 0)\n",
    "\n",
    "features = ['pm_score', 'hazard_score', 'area_score', 'pop_score']\n",
    "df[features] = df[features].fillna(df[features].mean())\n",
    "\n",
    "# 데이터 분할\n",
    "X_train, X_test, y_train, y_test = train_test_split(\n",
    "    df[features], df['cluster_D'],\n",
    "    test_size=0.3,\n",
    "    stratify=df['cluster_D'],\n",
    "    random_state=42\n",
    ")\n",
    "\n",
    "# 스케일링\n",
    "scaler = StandardScaler()\n",
    "X_train_scaled = scaler.fit_transform(X_train)\n",
    "X_test_scaled = scaler.transform(X_test)\n",
    "\n",
    "# SMOTE 오버샘플링 (학습 데이터만)\n",
    "smote = SMOTE(random_state=42)\n",
    "X_res, y_res = smote.fit_resample(X_train_scaled, y_train)\n",
    "\n",
    "# XGBoost 모델 학습\n",
    "model_xgb = XGBClassifier(\n",
    "    scale_pos_weight=len(y_res[y_res==0])/len(y_res[y_res==1]),\n",
    "    random_state=42\n",
    ")\n",
    "model_xgb.fit(X_res, y_res)\n",
    "\n",
    "# 테스트 데이터 예측확률 계산 (의료취약확률)\n",
    "y_proba_test = model_xgb.predict_proba(X_test_scaled)[:, 1]\n",
    "df_test = X_test.copy()\n",
    "df_test['cluster_D'] = y_test.values\n",
    "df_test['의료취약확률'] = y_proba_test * 100  # 0~100 점수화\n",
    "\n",
    "# 평가 및 리포트\n",
    "y_pred_test = (y_proba_test >= 0.5).astype(int)\n",
    "print(\"\\n✅ XGBoost Test Set 분류 리포트:\")\n",
    "print(classification_report(y_test, y_pred_test))\n",
    "print(f\"Test Set ROC AUC: {roc_auc_score(y_test, y_proba_test):.4f}\")\n",
    "\n",
    "plt.figure(figsize=(10,6))\n",
    "\n",
    "# 타깃군집과 비타깃군집의 확률 분포 히스토그램\n",
    "plt.hist(\n",
    "    df_test[df_test['cluster_D'] == 1]['의료취약확률'],\n",
    "    bins=10, alpha=0.6, color='tomato', label='target', density=True\n",
    ")\n",
    "plt.hist(\n",
    "    df_test[df_test['cluster_D'] == 0]['의료취약확률'],\n",
    "    bins=10, alpha=0.6, color='steelblue', label='non_target', density=True\n",
    ")\n",
    "\n",
    "plt.title('New Medical Vulnerability Probability by XGBoost')\n",
    "plt.xlabel('percent (%)')\n",
    "plt.ylabel('Density')\n",
    "plt.legend()\n",
    "plt.tight_layout()\n",
    "plt.show()\n",
    "\n"
   ]
  }
 ],
 "metadata": {
  "kernelspec": {
   "display_name": "base",
   "language": "python",
   "name": "python3"
  },
  "language_info": {
   "codemirror_mode": {
    "name": "ipython",
    "version": 3
   },
   "file_extension": ".py",
   "mimetype": "text/x-python",
   "name": "python",
   "nbconvert_exporter": "python",
   "pygments_lexer": "ipython3",
   "version": "3.12.7"
  }
 },
 "nbformat": 4,
 "nbformat_minor": 5
}
